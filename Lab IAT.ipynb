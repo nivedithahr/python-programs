{
 "cells": [
  {
   "cell_type": "code",
   "execution_count": 2,
   "id": "4f76a2f0",
   "metadata": {},
   "outputs": [
    {
     "name": "stdout",
     "output_type": "stream",
     "text": [
      "Enter your name: Niveditha H R\n",
      "Enter your project: Teacher's Pet\n",
      "Enter the comapany name: ganit\n",
      "Enter the client name: gonet\n",
      "Enter the objective of the project: To provide official communication platform\n",
      "Enter os: python , html, flask\n",
      "Enter functional requirements seperated by a comma: frames, navigation bar, web scraping, csv2\n",
      "\n",
      "Give the time budget for each of Functional requirements in terms of hourss: \n",
      "frames: 3\n",
      "navigation bar: 5\n",
      "web scraping: 4\n",
      "csv2: 7\n",
      "------------------------------\n",
      "******FEEDBACK OF IDEA******\n",
      "Ratings :\n",
      "1. positive\n",
      "2. negative\n",
      "Enter your option1\n",
      "\n",
      "positive outcomes 1\n",
      "negative oucomes 0\n",
      "\n",
      "Do you need cloud support?yes\n",
      "request is taken into consideration \n",
      " Thank you\n",
      "------------------------------\n",
      "Here is a pie for the time budget: \n"
     ]
    },
    {
     "data": {
      "image/png": "[encoded data removed]",
      "text/plain": [
       "<Figure size 432x288 with 1 Axes>"
      ]
     },
     "metadata": {},
     "output_type": "display_data"
    }
   ],
   "source": [
    "import numpy as np\n",
    "import matplotlib.pyplot as plt\n",
    "\n",
    "f = open(\"srsform.txt\", \"a\")\n",
    "f.write(\"customer Name: \" + input(\"Enter your name: \"))\n",
    "f.write(\"Project Name: \" + input(\"Enter your project: \"))\n",
    "f.write(\"\\nCompany Name: \"+ input(\"Enter the comapany name: \"))\n",
    "f.write(\"\\nClient: \"+ input(\"Enter the client name: \"))\n",
    "f.write(\"\\n\\nObjective: \"+ input(\"Enter the objective of the project: \"))\n",
    "f.write(\"\\n\\nOS support: \"+ input(\"Enter os: \"))\n",
    "funcReq = input(\"Enter functional requirements seperated by a comma: \")\n",
    "funlst = funcReq.split(\", \")\n",
    "print()\n",
    "timebudget = []\n",
    "print(\"Give the time budget for each of Functional requirements in terms of hourss: \")\n",
    "for i in funlst:\n",
    "\ttimebudget.append(input(i+\": \"))\n",
    "\n",
    "print(\"-\" * 30)\n",
    "positive = 0\n",
    "negative = 0\n",
    "print(\"******FEEDBACK OF IDEA******\")\n",
    "choice = input(\"Ratings :\\n1. positive\\n2. negative\\nEnter your option\")\n",
    "a = \"1\"\n",
    "b = \"2\"\n",
    "if choice == a:\n",
    "    positive = positive + 1\n",
    "elif choice == b:\n",
    "    negative = negative + 1\n",
    "else:\n",
    "    print(\"you have not entered correct option : \")\n",
    "print()\n",
    "print(\"positive outcomes\" , positive)\n",
    "print(\"negative oucomes\", negative)\n",
    "print()\n",
    "y = \"yes\"\n",
    "n = \"no\"\n",
    "ans = input(\"Do you need cloud support?\")\n",
    "if y == \"yes\":\n",
    "    print(\"request is taken into consideration \\n Thank you\")\n",
    "else:\n",
    "    print(\"Thank you\")\n",
    "print(\"-\" * 30)\n",
    "\n",
    "budget = np.array(timebudget)\n",
    "print(\"Here is a pie for the time budget: \")\n",
    "plt.pie(budget, labels = funlst, startangle = 90)\n",
    "plt.show()\n",
    "\n"
   ]
  },
  {
   "cell_type": "code",
   "execution_count": null,
   "id": "937f1d56",
   "metadata": {},
   "outputs": [],
   "source": []
  },
  {
   "cell_type": "code",
   "execution_count": null,
   "id": "10c6a5b1",
   "metadata": {},
   "outputs": [],
   "source": []
  }
 ],
 "metadata": {
  "kernelspec": {
   "display_name": "Python 3",
   "language": "python",
   "name": "python3"
  },
  "language_info": {
   "codemirror_mode": {
    "name": "ipython",
    "version": 3
   },
   "file_extension": ".py",
   "mimetype": "text/x-python",
   "name": "python",
   "nbconvert_exporter": "python",
   "pygments_lexer": "ipython3",
   "version": "3.8.8"
  }
 },
 "nbformat": 4,
 "nbformat_minor": 5
}
