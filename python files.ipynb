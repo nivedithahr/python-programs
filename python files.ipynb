{
 "cells": [
  {
   "cell_type": "code",
   "execution_count": 2,
   "id": "04b5b0c1",
   "metadata": {},
   "outputs": [
    {
     "name": "stdout",
     "output_type": "stream",
     "text": [
      "--------------------------------------------------------------------------------\n",
      "Hello Which is ur fav language? PYTHON\n",
      "--------------------------------------------------------------------------------\n",
      "That's great, lets get stzarted with files\n",
      "--------------------------------------------------------------------------------\n"
     ]
    }
   ],
   "source": [
    "print(\"-\" * 80)\n",
    "print (\"Hello Which is ur fav language?\", \"PYTHON\")\n",
    "print(\"-\" * 80)\n",
    "print(\"That's great, lets get stzarted with files\")\n",
    "print(\"-\" * 80)"
   ]
  },
  {
   "cell_type": "code",
   "execution_count": null,
   "id": "9fb74ba7",
   "metadata": {},
   "outputs": [],
   "source": []
  },
  {
   "cell_type": "code",
   "execution_count": 7,
   "id": "899fefdc",
   "metadata": {},
   "outputs": [
    {
     "name": "stdout",
     "output_type": "stream",
     "text": [
      "file name :  csecmr1.txt\n"
     ]
    }
   ],
   "source": [
    "#open file\n",
    "new = open(\"csecmr1.txt\", \"w\")\n",
    "print(\"file name : \", new.name)\n",
    "new.close() #close file"
   ]
  },
  {
   "cell_type": "code",
   "execution_count": 10,
   "id": "62e5a98c",
   "metadata": {},
   "outputs": [
    {
     "name": "stdout",
     "output_type": "stream",
     "text": [
      "NivedithahrNivedithahrNivedithahr\n"
     ]
    }
   ],
   "source": [
    "n = open(\"csecmr1.txt\", \"a\")\n",
    "n.write(\"Nivedithahr\")\n",
    "n.close()\n",
    "#after appending-->read file\n",
    "n = open(\"csecmr1.txt\", \"r\")\n",
    "print(n.read())"
   ]
  },
  {
   "cell_type": "code",
   "execution_count": 12,
   "id": "2e8683f3",
   "metadata": {},
   "outputs": [
    {
     "name": "stdout",
     "output_type": "stream",
     "text": [
      "Read string is :  Nivedithahr\n"
     ]
    }
   ],
   "source": [
    "new = open(\"csecmr1.txt\", \"r+\")\n",
    "str = new.read(11)\n",
    "print(\"Read string is : \", str)\n",
    "new.close()"
   ]
  },
  {
   "cell_type": "code",
   "execution_count": 17,
   "id": "8319d7f2",
   "metadata": {},
   "outputs": [
    {
     "name": "stdout",
     "output_type": "stream",
     "text": [
      "Name of the file:  csecmr1.txt\n",
      "Closed or not :  False\n",
      "Opening mode :  w\n"
     ]
    }
   ],
   "source": [
    "new = open(\"csecmr1.txt\", \"w\")\n",
    "print (\"Name of the file: \", new.name)\n",
    "print (\"Closed or not : \", new.closed)\n",
    "print (\"Opening mode : \", new.mode)\n"
   ]
  },
  {
   "cell_type": "code",
   "execution_count": 25,
   "id": "bc9794ea",
   "metadata": {},
   "outputs": [
    {
     "name": "stdout",
     "output_type": "stream",
     "text": [
      "nivenivenive\n"
     ]
    }
   ],
   "source": [
    "f = open(\"cse7sem1.txt\", \"a\")\n",
    "f.write(\"nive\")\n",
    "f.close()\n",
    "f = open(\"cse7sem1.txt\", \"r\")\n",
    "print(f.read()) "
   ]
  },
  {
   "cell_type": "code",
   "execution_count": 29,
   "id": "10518a97",
   "metadata": {},
   "outputs": [
    {
     "name": "stdout",
     "output_type": "stream",
     "text": [
      "Read String is :  niveniveni\n",
      "Current file position :  10\n",
      "Again read String is :  iveniv\n",
      "my new string=  enive\n"
     ]
    }
   ],
   "source": [
    "\n",
    "new = open(\"cse7sem1.txt\", \"r+\")\n",
    "str = new.read(10)\n",
    "print (\"Read String is : \", str) \n",
    "\n",
    "# Check current position\n",
    "position = new.tell()\n",
    "print (\"Current file position : \", position)\n",
    "\n",
    "# Reposition pointer\n",
    "position = new.seek(1, 0);\n",
    "str = new.read(6)\n",
    "print (\"Again read String is : \", str)\n",
    "\n",
    "ptr=new.seek(0,1)\n",
    "str1=new.read(5)\n",
    "print(\"my new string= \", str1)\n",
    "\n",
    "new.close()"
   ]
  },
  {
   "cell_type": "code",
   "execution_count": 32,
   "id": "3be01091",
   "metadata": {},
   "outputs": [
    {
     "name": "stdout",
     "output_type": "stream",
     "text": [
      "Read string is :  niveniveniv\n"
     ]
    }
   ],
   "source": [
    "\n",
    "new = open(\"cse7sem1.txt\", \"r+\")\n",
    "str = new.read(11)\n",
    "print(\"Read string is : \", str)\n",
    "new.close()"
   ]
  },
  {
   "cell_type": "code",
   "execution_count": null,
   "id": "02118f0a",
   "metadata": {},
   "outputs": [],
   "source": []
  }
 ],
 "metadata": {
  "kernelspec": {
   "display_name": "Python 3",
   "language": "python",
   "name": "python3"
  },
  "language_info": {
   "codemirror_mode": {
    "name": "ipython",
    "version": 3
   },
   "file_extension": ".py",
   "mimetype": "text/x-python",
   "name": "python",
   "nbconvert_exporter": "python",
   "pygments_lexer": "ipython3",
   "version": "3.8.8"
  }
 },
 "nbformat": 4,
 "nbformat_minor": 5
}
