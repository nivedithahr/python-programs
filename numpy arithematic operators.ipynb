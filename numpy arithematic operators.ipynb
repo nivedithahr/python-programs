{
 "cells": [
  {
   "cell_type": "code",
   "execution_count": 4,
   "id": "91bbf5de",
   "metadata": {},
   "outputs": [
    {
     "name": "stdout",
     "output_type": "stream",
     "text": [
      "A=  9\n",
      "\n",
      "B=  [10 20 30]\n",
      "\n",
      "After Addition = [19 29 39]\n",
      "\n",
      "After Subtraction = [ 1 11 21]\n",
      "\n",
      "After Multiplcation = [ 90 180 270]\n",
      "\n",
      "After Division = [1.11111111 2.22222222 3.33333333]\n",
      "\n",
      "After Division = 2.25\n"
     ]
    }
   ],
   "source": [
    "import numpy as np\n",
    "a=np.array(9)\n",
    "print(\"A= \",a)\n",
    "\n",
    "b=np.array([10,20,30])\n",
    "print(\"\\nB= \", b)\n",
    "\n",
    "addition= np.add(a,b)\n",
    "print(\"\\nAfter Addition =\", addition)\n",
    "\n",
    "sub=np.subtract(b,a)\n",
    "print(\"\\nAfter Subtraction =\",sub)\n",
    "\n",
    "mul=np.multiply (a,b)\n",
    "print(\"\\nAfter Multiplcation =\",mul)\n",
    "\n",
    "div=np.divide (b,a)\n",
    "print(\"\\nAfter Division =\",div)\n",
    "\n",
    "div1=np.divide (a,4)\n",
    "print(\"\\nAfter Division =\",div1)"
   ]
  },
  {
   "cell_type": "code",
   "execution_count": 9,
   "id": "a2c04231",
   "metadata": {},
   "outputs": [
    {
     "name": "stdout",
     "output_type": "stream",
     "text": [
      "[ 1.   2.2  4.  66. ]\n",
      "[1.         0.45454545 0.25       0.01515152]\n"
     ]
    }
   ],
   "source": [
    "#reciprocal\n",
    "a= np.array([1, 2.2, 4, 66])\n",
    "print(a)\n",
    "rec=np.reciprocal(a) \n",
    "print(rec)"
   ]
  },
  {
   "cell_type": "code",
   "execution_count": 13,
   "id": "82733c0d",
   "metadata": {},
   "outputs": [
    {
     "name": "stdout",
     "output_type": "stream",
     "text": [
      "[  10  100 1000]\n",
      "a power 2 is =  [    100   10000 1000000]\n",
      "\n",
      "[5 2 1]\n",
      "a ^ b =  [100000  10000   1000]\n"
     ]
    }
   ],
   "source": [
    "a=np.array([10,100,1000])\n",
    "print(a)\n",
    "pow=np.power(a,2)\n",
    "print(\"a power 2 is = \", pow)\n",
    "\n",
    "b=np.array([5,2,1])\n",
    "print()\n",
    "print(b)\n",
    "pow1=np.power(a,b)\n",
    "print(\"a ^ b = \", pow1)\n"
   ]
  },
  {
   "cell_type": "code",
   "execution_count": 17,
   "id": "156df101",
   "metadata": {},
   "outputs": [
    {
     "name": "stdout",
     "output_type": "stream",
     "text": [
      "values of A = [10 20 30]\n",
      "values of B = [3 5 7]\n",
      "a MOD b= [1 0 2]\n",
      "values of reminder= [1 0 2]\n"
     ]
    }
   ],
   "source": [
    "a= np.array ([10,20,30])\n",
    "b= np.array ([3,5,7])\n",
    "print(\"values of A =\", a)\n",
    "print(\"values of B =\", b)\n",
    "x=np.mod(a,b)\n",
    "y=np.remainder(a,b)\n",
    "\n",
    "print(\"a MOD b=\", x)\n",
    "print(\"values of reminder=\", y)\n",
    "\n"
   ]
  },
  {
   "cell_type": "code",
   "execution_count": 18,
   "id": "6d08a918",
   "metadata": {},
   "outputs": [
    {
     "name": "stdout",
     "output_type": "stream",
     "text": [
      "[-0.-5.5j -0.-4.4j  0.+0.5j 11.+0.j   2.+2.j ]\n",
      "\n",
      "real= [-0. -0.  0. 11.  2.]\n",
      "\n",
      "imaginary= [-5.5 -4.4  0.5  0.   2. ]\n",
      "\n",
      "Conjugate= [-0.+5.5j -0.+4.4j  0.-0.5j 11.-0.j   2.-2.j ]\n"
     ]
    }
   ],
   "source": [
    "a=np.array([-5.5j, -4.4j, 0.5j, 11, 2+2j])\n",
    "print(a)\n",
    "print(\"\\nreal=\",np.real(a))\n",
    "print(\"\\nimaginary=\",np.imag(a))\n",
    "print(\"\\nConjugate=\", np.conj(a))"
   ]
  },
  {
   "cell_type": "code",
   "execution_count": 19,
   "id": "090a4e86",
   "metadata": {},
   "outputs": [
    {
     "name": "stdout",
     "output_type": "stream",
     "text": [
      "[2.    3.333 7.35  8.99  5.3   4.   ]\n",
      "\n",
      "after rounding up= [2. 3. 7. 9. 5. 4.]\n",
      "\n",
      "after rounding up to 1st decimal value = [2.  3.3 7.4 9.  5.3 4. ]\n"
     ]
    }
   ],
   "source": [
    "a=np.array ([2.0, 3.333, 7.35, 8.99, 5.3, 4])\n",
    "\n",
    "print(a)\n",
    "print(\"\\nafter rounding up=\", np.around(a))\n",
    "print(\"\\nafter rounding up to 1st decimal value =\", np.around(a,decimals=1))"
   ]
  },
  {
   "cell_type": "code",
   "execution_count": 20,
   "id": "cf71e3e5",
   "metadata": {},
   "outputs": [
    {
     "name": "stdout",
     "output_type": "stream",
     "text": [
      "[ 1.   -6.3  22.6  -0.45 25.5  30.  ]\n",
      "\n",
      "[ 1. -7. 22. -1. 25. 30.]\n",
      "[ 1. -6. 23. -0. 26. 30.]\n"
     ]
    }
   ],
   "source": [
    "#floor and ceil\n",
    "a=np.array ([1.0,-6.3,22.6,-0.45,25.5,30])\n",
    "print(a)\n",
    "print()\n",
    "print(np.floor(a))\n",
    "print(np.ceil(a))"
   ]
  },
  {
   "cell_type": "code",
   "execution_count": null,
   "id": "00c8249e",
   "metadata": {},
   "outputs": [],
   "source": []
  }
 ],
 "metadata": {
  "kernelspec": {
   "display_name": "Python 3",
   "language": "python",
   "name": "python3"
  },
  "language_info": {
   "codemirror_mode": {
    "name": "ipython",
    "version": 3
   },
   "file_extension": ".py",
   "mimetype": "text/x-python",
   "name": "python",
   "nbconvert_exporter": "python",
   "pygments_lexer": "ipython3",
   "version": "3.8.8"
  }
 },
 "nbformat": 4,
 "nbformat_minor": 5
}
