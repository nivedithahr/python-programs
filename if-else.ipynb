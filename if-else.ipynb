{
 "cells": [
  {
   "cell_type": "code",
   "execution_count": 1,
   "id": "67a198ab",
   "metadata": {},
   "outputs": [
    {
     "name": "stdout",
     "output_type": "stream",
     "text": [
      "enter the number?5\n",
      "Number is odd\n"
     ]
    }
   ],
   "source": [
    "    num = int(input(\"enter the number?\"))  \n",
    "    if num%2 == 0:  \n",
    "        print(\"Number is even\")\n",
    "    else:\n",
    "        print(\"Number is odd\")\n",
    "        "
   ]
  },
  {
   "cell_type": "code",
   "execution_count": 3,
   "id": "e81e7abc",
   "metadata": {},
   "outputs": [
    {
     "name": "stdout",
     "output_type": "stream",
     "text": [
      "Enter a: 3\n",
      "Enter b: 9\n",
      "Enter c: 5\n",
      "b is largest\n"
     ]
    }
   ],
   "source": [
    "    a = int(input(\"Enter a: \"))  \n",
    "    b = int(input(\"Enter b: \"))  \n",
    "    c = int(input(\"Enter c: \"))  \n",
    "    if a>b and a>c:  \n",
    "        print(\"a is largest\")  \n",
    "    if b>c:  \n",
    "        print(\"b is largest\")  \n",
    "    else:  \n",
    "        print(\"c is largest\") "
   ]
  },
  {
   "cell_type": "code",
   "execution_count": 7,
   "id": "1c9aa697",
   "metadata": {},
   "outputs": [
    {
     "name": "stdout",
     "output_type": "stream",
     "text": [
      "Enter your age? 13\n",
      "Sorry! you have to wait .come back after 5 years!!\n"
     ]
    }
   ],
   "source": [
    "    age = int (input(\"Enter your age? \"))  \n",
    "    if age>=18:  \n",
    "        print(\"You are eligible to vote !!\");  \n",
    "    else:  \n",
    "        print(\"Sorry! you have to wait .come back after {} years!!\".format(18-age));  "
   ]
  },
  {
   "cell_type": "code",
   "execution_count": 9,
   "id": "0a328395",
   "metadata": {},
   "outputs": [
    {
     "name": "stdout",
     "output_type": "stream",
     "text": [
      "enter the number?23\n",
      "Number is odd...\n"
     ]
    }
   ],
   "source": [
    "    num = int(input(\"enter the number?\"))  \n",
    "    if num%2 == 0:  \n",
    "        print(\"Number is even...\")  \n",
    "    else:  \n",
    "        print(\"Number is odd...\")  "
   ]
  },
  {
   "cell_type": "code",
   "execution_count": 9,
   "id": "11628e55",
   "metadata": {},
   "outputs": [
    {
     "name": "stdout",
     "output_type": "stream",
     "text": [
      "Enter the number?50\n",
      "number is equal to 50\n"
     ]
    }
   ],
   "source": [
    "    number = int(input(\"Enter the number?\"))  \n",
    "    if number==10:  \n",
    "        print(\"number is equals to 10\")  \n",
    "    elif number==15:  \n",
    "        print(\"number is equal to 15\")  \n",
    "    elif number==50:  \n",
    "        print(\"number is equal to 50\")  \n",
    "    else:  \n",
    "        print(\"number is not equal to 10, 15 or 50\")  "
   ]
  },
  {
   "cell_type": "code",
   "execution_count": 12,
   "id": "6b02cacc",
   "metadata": {},
   "outputs": [
    {
     "name": "stdout",
     "output_type": "stream",
     "text": [
      "Enter the number between 1 and 50?9\n",
      "number lies between 0 and 10\n"
     ]
    }
   ],
   "source": [
    "number = int(input(\"Enter the number between 1 and 50?\"))\n",
    "if 0<=number<=10:  \n",
    "    print(\"number lies between 0 and 10\")  \n",
    "elif 11<=number<=25:  \n",
    "    print(\"number lies between 11 and 25\")\n",
    "elif 26<=number<=50:  \n",
    "    print(\"number lies between 26 and 50\")  \n",
    "else:  \n",
    "    print(\"number you entered is above 50\")  "
   ]
  },
  {
   "cell_type": "code",
   "execution_count": 13,
   "id": "b6a59f62",
   "metadata": {},
   "outputs": [
    {
     "name": "stdout",
     "output_type": "stream",
     "text": [
      "Enter the marks? 99\n",
      "Congrats ! you scored grade A\n"
     ]
    }
   ],
   "source": [
    "    marks = int(input(\"Enter the marks? \"))  \n",
    "    if marks > 85 and marks <= 100:  \n",
    "       print(\"Congrats ! you scored grade A\")  \n",
    "    elif marks > 60 and marks <= 85:  \n",
    "       print(\"You scored grade B +\")  \n",
    "    elif marks > 40 and marks <= 60:  \n",
    "       print(\"You scored grade B\")  \n",
    "    elif (marks > 30 and marks <= 40):  \n",
    "       print(\"You scored grade C\")  \n",
    "    else:  \n",
    "       print(\"Sorry you are fail ?\")  "
   ]
  },
  {
   "cell_type": "code",
   "execution_count": null,
   "id": "095997f5",
   "metadata": {},
   "outputs": [],
   "source": []
  },
  {
   "cell_type": "code",
   "execution_count": null,
   "id": "39540fdf",
   "metadata": {},
   "outputs": [],
   "source": []
  }
 ],
 "metadata": {
  "kernelspec": {
   "display_name": "Python 3",
   "language": "python",
   "name": "python3"
  },
  "language_info": {
   "codemirror_mode": {
    "name": "ipython",
    "version": 3
   },
   "file_extension": ".py",
   "mimetype": "text/x-python",
   "name": "python",
   "nbconvert_exporter": "python",
   "pygments_lexer": "ipython3",
   "version": "3.8.8"
  }
 },
 "nbformat": 4,
 "nbformat_minor": 5
}
