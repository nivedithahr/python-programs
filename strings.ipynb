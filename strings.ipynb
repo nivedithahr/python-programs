{
 "cells": [
  {
   "cell_type": "code",
   "execution_count": 1,
   "id": "4c7c6c54",
   "metadata": {},
   "outputs": [
    {
     "name": "stdout",
     "output_type": "stream",
     "text": [
      "Hello World!   Welcome to Python Programming class\n"
     ]
    }
   ],
   "source": [
    "var1 = 'Hello World!'\n",
    "var2 = \"Welcome to Python Programming class\"\n",
    "print(var1,\" \",var2)"
   ]
  },
  {
   "cell_type": "code",
   "execution_count": 3,
   "id": "73421d82",
   "metadata": {},
   "outputs": [
    {
     "name": "stdout",
     "output_type": "stream",
     "text": [
      "H\n",
      "!\n",
      "on Pro\n"
     ]
    }
   ],
   "source": [
    "var1 = 'Hello World!'\n",
    "var2 = \"Python Programming\"\n",
    "print (var1[0])\n",
    "print(var1[11])\n",
    "print (var2[4:10])"
   ]
  },
  {
   "cell_type": "code",
   "execution_count": 7,
   "id": "4b6c4d3e",
   "metadata": {},
   "outputs": [
    {
     "name": "stdout",
     "output_type": "stream",
     "text": [
      "Updated String is:-  Hello Niveditha H R\n"
     ]
    }
   ],
   "source": [
    "var1 = 'Hello World!'\n",
    "print (\"Updated String is:- \", var1[0:6] + 'Niveditha H R')"
   ]
  },
  {
   "cell_type": "code",
   "execution_count": 8,
   "id": "2ebe7891",
   "metadata": {},
   "outputs": [
    {
     "name": "stdout",
     "output_type": "stream",
     "text": [
      "Please Enter Your Own String : hello nive\n",
      "The Final String : Str2  =  hello nive\n",
      "The Final String : Str3  =  hello nive\n",
      "The Final String : Str4  = =  llo\n"
     ]
    }
   ],
   "source": [
    "str1 = input(\"Please Enter Your Own String : \")\n",
    "str2 = str1\n",
    "str3 = str1[:]\n",
    "str4 = str1[2:5]\n",
    "print(\"The Final String : Str2  = \", str2)\n",
    "print(\"The Final String : Str3  = \", str3)\n",
    "print(\"The Final String : Str4  = = \", str4)"
   ]
  },
  {
   "cell_type": "code",
   "execution_count": 10,
   "id": "cba637d1",
   "metadata": {},
   "outputs": [
    {
     "name": "stdout",
     "output_type": "stream",
     "text": [
      "str.capitalize() :  I am niveditha h r from ramanagara\n"
     ]
    }
   ],
   "source": [
    "#Python String capitalize() method returns a copy of the string with only its first character capitalized.\n",
    "str = \"i am Niveditha H R from Ramanagara\";\n",
    "print (\"str.capitalize() : \", str.capitalize())"
   ]
  },
  {
   "cell_type": "code",
   "execution_count": 1,
   "id": "f36e790b",
   "metadata": {},
   "outputs": [
    {
     "name": "stdout",
     "output_type": "stream",
     "text": [
      "str.center(80, '*') :  ***************************DATA ANALYSIS USING PYTHON***************************\n"
     ]
    }
   ],
   "source": [
    "#center() returns centered in a string of length width. Padding is done using the specified fillchar. Default filler is a space.\n",
    "str = \"DATA ANALYSIS USING PYTHON\"\n",
    "print (\"str.center(80, '*') : \", str.center(80, '*'))"
   ]
  },
  {
   "cell_type": "code",
   "execution_count": 2,
   "id": "2b649684",
   "metadata": {},
   "outputs": [
    {
     "name": "stdout",
     "output_type": "stream",
     "text": [
      "str.count(sub, 2, 40) :  3\n",
      "str.count(sub) :  1\n"
     ]
    }
   ],
   "source": [
    "#count() - substring sub in the range [start, end]. \n",
    "#str.count(sub, start= 0,end=len(string))\n",
    "str = \"this is string example....wow!!!\";\n",
    "sub = \"i\";\n",
    "print (\"str.count(sub, 2, 40) : \", str.count(sub, 2, 40))\n",
    "sub = \"wow\";\n",
    "print (\"str.count(sub) : \", str.count(sub))"
   ]
  },
  {
   "cell_type": "code",
   "execution_count": 19,
   "id": "4aa7bfa0",
   "metadata": {},
   "outputs": [
    {
     "name": "stdout",
     "output_type": "stream",
     "text": [
      "2\n",
      "-1\n",
      "-1\n"
     ]
    }
   ],
   "source": [
    "#find() determines if string str occurs in a string, or in a substring of string (if starting index beg and ending index end are given).\n",
    "#str.find(str, beg=0, end=len(string))\n",
    "str1 = \"this is string example....wow!!!\";\n",
    "str2 = \"is\";\n",
    "print (str1.find(str2))\n",
    "print (str1.find(str2, 15))\n",
    "print (str1.find(str2, 50))"
   ]
  },
  {
   "cell_type": "code",
   "execution_count": 21,
   "id": "2c75151a",
   "metadata": {},
   "outputs": [
    {
     "name": "stdout",
     "output_type": "stream",
     "text": [
      "10\n",
      "10\n"
     ]
    }
   ],
   "source": [
    "#index() -->determines if string str occurs in string or in a substring of string if starting index beg and ending index end are given.\n",
    "str1 = \"Nowergian Blue\";\n",
    "str2 = \"Blue\";\n",
    "print (str1.index(str2))\n",
    "print (str1.index(str2, 10,30))"
   ]
  },
  {
   "cell_type": "code",
   "execution_count": 23,
   "id": "e759e7bf",
   "metadata": {},
   "outputs": [
    {
     "name": "stdout",
     "output_type": "stream",
     "text": [
      "True\n",
      "False\n"
     ]
    }
   ],
   "source": [
    "#isalnum() returns true if the string consists of alphanumeric characters.\n",
    "str = \"Nive123\";  # No space in this string\n",
    "print (str.isalnum())\n",
    "str = \"Niveditha H R....?\";\n",
    "print (str.isalnum())"
   ]
  },
  {
   "cell_type": "code",
   "execution_count": 25,
   "id": "c1f83529",
   "metadata": {},
   "outputs": [
    {
     "name": "stdout",
     "output_type": "stream",
     "text": [
      "True\n",
      "False\n"
     ]
    }
   ],
   "source": [
    "#isalpha- returns true if string contain alphabet character\n",
    "str = \"NivedithaHR\";  # No space & digit in this string\n",
    "print (str.isalpha())\n",
    "str = \"This class is awesome...\";\n",
    "print (str.isalpha())"
   ]
  },
  {
   "cell_type": "code",
   "execution_count": 27,
   "id": "38888e75",
   "metadata": {},
   "outputs": [
    {
     "name": "stdout",
     "output_type": "stream",
     "text": [
      "True\n",
      "False\n"
     ]
    }
   ],
   "source": [
    "# isdigit()-Only digit then true\n",
    "str = \"7899409862\"; \n",
    "print (str.isdigit())\n",
    "str = \"cmr university\";\n",
    "print (str.isdigit())\n"
   ]
  },
  {
   "cell_type": "code",
   "execution_count": 29,
   "id": "a6379049",
   "metadata": {},
   "outputs": [
    {
     "name": "stdout",
     "output_type": "stream",
     "text": [
      "False\n",
      "True\n"
     ]
    }
   ],
   "source": [
    "str = \"THIS IS MACHINE learning class\" \n",
    "print (str.islower())\n",
    "str = \"this is python class\"\n",
    "print (str.islower())"
   ]
  },
  {
   "cell_type": "code",
   "execution_count": 31,
   "id": "cfebdca2",
   "metadata": {},
   "outputs": [
    {
     "name": "stdout",
     "output_type": "stream",
     "text": [
      "True\n",
      "True\n"
     ]
    }
   ],
   "source": [
    "str = \"niv2000\";  \n",
    "print (str.isalnum())\n",
    "str = \"123456\";\n",
    "print (str.isnumeric())"
   ]
  },
  {
   "cell_type": "code",
   "execution_count": 34,
   "id": "5573a499",
   "metadata": {},
   "outputs": [
    {
     "name": "stdout",
     "output_type": "stream",
     "text": [
      "True\n",
      "False\n"
     ]
    }
   ],
   "source": [
    "str = \"  \" \n",
    "print (str.isspace())\n",
    "str = \"This is string example....wow!!!\"\n",
    "print (str.isspace())"
   ]
  },
  {
   "cell_type": "code",
   "execution_count": 36,
   "id": "23e4f111",
   "metadata": {},
   "outputs": [
    {
     "name": "stdout",
     "output_type": "stream",
     "text": [
      "True\n",
      "False\n"
     ]
    }
   ],
   "source": [
    "str = \"Data Analysis Using Python\"\n",
    "print (str.istitle())\n",
    "str = \"data analysis using python\"\n",
    "print (str.istitle())"
   ]
  },
  {
   "cell_type": "code",
   "execution_count": 38,
   "id": "af240d87",
   "metadata": {},
   "outputs": [
    {
     "name": "stdout",
     "output_type": "stream",
     "text": [
      "True\n",
      "False\n"
     ]
    }
   ],
   "source": [
    "str = \"THIS BOOK IS AWESOME\"; \n",
    "print (str.isupper())\n",
    "str = \"i visited innovative film city\";\n",
    "print (str.isupper())"
   ]
  },
  {
   "cell_type": "code",
   "execution_count": 41,
   "id": "1fb6e5fc",
   "metadata": {},
   "outputs": [
    {
     "name": "stdout",
     "output_type": "stream",
     "text": [
      "apple  *  *  mango  *  *  strawberry\n"
     ]
    }
   ],
   "source": [
    "#join() returns a string in which the string elements of sequence have been joined by str separator.\n",
    "s = \"  *  *  \";\n",
    "seq = (\"apple\", \"mango\", \"strawberry\"); \n",
    "print (s.join( seq ))"
   ]
  },
  {
   "cell_type": "code",
   "execution_count": 42,
   "id": "72a56a65",
   "metadata": {},
   "outputs": [
    {
     "name": "stdout",
     "output_type": "stream",
     "text": [
      "Length of the string:  20\n"
     ]
    }
   ],
   "source": [
    "str = \"this is DAP class...\"\n",
    "print (\"Length of the string: \", len(str))"
   ]
  },
  {
   "cell_type": "code",
   "execution_count": 44,
   "id": "2e1aa7b1",
   "metadata": {},
   "outputs": [
    {
     "name": "stdout",
     "output_type": "stream",
     "text": [
      "this is example of lstrp....wow!!!     \n",
      "this is example of lstrip....wow!@@@@@\n",
      "******this is example of lstrip....wow!\n"
     ]
    }
   ],
   "source": [
    "#lstrip() returns a copy of the string in which all chars have been stripped from the beginning of the string (default whitespace characters)\n",
    "str = \"     this is example of lstrp....wow!!!     \"\n",
    "print (str.lstrip())\n",
    "str = \"******this is example of lstrip....wow!@@@@@\"\n",
    "print (str.lstrip('*'))\n",
    "print (str.rstrip('@'))"
   ]
  },
  {
   "cell_type": "code",
   "execution_count": 46,
   "id": "d11e58ab",
   "metadata": {},
   "outputs": [
    {
     "name": "stdout",
     "output_type": "stream",
     "text": [
      "this is python class..!\n"
     ]
    }
   ],
   "source": [
    "str = \"THIS IS PYTHON CLASS..!\";\n",
    "print (str.lower())"
   ]
  },
  {
   "cell_type": "code",
   "execution_count": 48,
   "id": "05aa683e",
   "metadata": {},
   "outputs": [
    {
     "name": "stdout",
     "output_type": "stream",
     "text": [
      "Max character: y\n",
      "Max character: v\n"
     ]
    }
   ],
   "source": [
    "#returns largest character\n",
    "str = \"check....python!!!\";\n",
    "print (\"Max character: \" + max(str))\n",
    "str = \"niveditha..h..r..!\";\n",
    "print (\"Max character: \" + max(str))"
   ]
  },
  {
   "cell_type": "code",
   "execution_count": 50,
   "id": "885cace4",
   "metadata": {},
   "outputs": [
    {
     "name": "stdout",
     "output_type": "stream",
     "text": [
      "Min character: -\n",
      "Min character: !\n"
     ]
    }
   ],
   "source": [
    "str = \"python-class\";\n",
    "print (\"Min character: \" + min(str))\n",
    "str = \"python-class-training!..\";\n",
    "print (\"Min character: \" + min(str))"
   ]
  },
  {
   "cell_type": "code",
   "execution_count": 53,
   "id": "c46a33f1",
   "metadata": {},
   "outputs": [
    {
     "name": "stdout",
     "output_type": "stream",
     "text": [
      "was thwas your car...wow! really thwas was your car\n",
      "was thwas your car...wow! really thwas was your car\n"
     ]
    }
   ],
   "source": [
    "#str.replace(old, new, max)\n",
    "str = \"is this your car...wow! really this was your car\"\n",
    "print (str.replace(\"is\", \"was\"))\n",
    "print (str.replace(\"is\", \"was\", 5))"
   ]
  },
  {
   "cell_type": "code",
   "execution_count": 55,
   "id": "328b37be",
   "metadata": {},
   "outputs": [
    {
     "name": "stdout",
     "output_type": "stream",
     "text": [
      "True\n",
      "True\n",
      "False\n"
     ]
    }
   ],
   "source": [
    "str = \"this is string example\";\n",
    "print (str.startswith( 'this' ))\n",
    "print (str.startswith( 'is', 2, 4 ))\n",
    "print (str.startswith( 'this', 2, 4 ))"
   ]
  },
  {
   "cell_type": "code",
   "execution_count": 57,
   "id": "eb49635b",
   "metadata": {},
   "outputs": [
    {
     "name": "stdout",
     "output_type": "stream",
     "text": [
      "str.capitalize() :  HELLO NIVEDITHA H R\n"
     ]
    }
   ],
   "source": [
    "str = \"hello niveditha h r\";\n",
    "print (\"str.capitalize() : \", str.upper())"
   ]
  },
  {
   "cell_type": "code",
   "execution_count": 58,
   "id": "cf022933",
   "metadata": {},
   "outputs": [
    {
     "name": "stdout",
     "output_type": "stream",
     "text": [
      "yOU ARE FROM cmr university\n",
      "hELLO nIVEDITHA h r\n"
     ]
    }
   ],
   "source": [
    "str = \"You are from CMR UNIVERSITY\";\n",
    "print (str.swapcase())\n",
    "str = \"Hello Niveditha H R\";\n",
    "print (str.swapcase())"
   ]
  }
 ],
 "metadata": {
  "kernelspec": {
   "display_name": "Python 3",
   "language": "python",
   "name": "python3"
  },
  "language_info": {
   "codemirror_mode": {
    "name": "ipython",
    "version": 3
   },
   "file_extension": ".py",
   "mimetype": "text/x-python",
   "name": "python",
   "nbconvert_exporter": "python",
   "pygments_lexer": "ipython3",
   "version": "3.8.8"
  }
 },
 "nbformat": 4,
 "nbformat_minor": 5
}
