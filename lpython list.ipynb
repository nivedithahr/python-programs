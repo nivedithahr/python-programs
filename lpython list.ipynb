{
 "cells": [
  {
   "cell_type": "code",
   "execution_count": 1,
   "id": "a16eb709",
   "metadata": {},
   "outputs": [
    {
     "name": "stdout",
     "output_type": "stream",
     "text": [
      "['physics', 'chemistry', 1997, 2000]\n",
      "list1[2]:  1997\n",
      "list2[1:3]:  [2, 3]\n"
     ]
    }
   ],
   "source": [
    "list1 = ['physics', 'chemistry', 1997, 2000];\n",
    "print(list1)\n",
    "list2 = [1, 2, 3, 4, 5, 6, 7 ];\n",
    "print (\"list1[2]: \", list1[2])\n",
    "print (\"list2[1:3]: \", list2[1:3])"
   ]
  },
  {
   "cell_type": "code",
   "execution_count": 1,
   "id": "ba390b9a",
   "metadata": {},
   "outputs": [
    {
     "name": "stdout",
     "output_type": "stream",
     "text": [
      "Value available at index 2 : \n",
      "500\n",
      "New value available at index 2 : \n",
      "2000\n"
     ]
    }
   ],
   "source": [
    "list = ['PYTHON', 'ML', 500, 1000];\n",
    "print (\"Value available at index 2 : \")\n",
    "print (list[2])\n",
    "list[2] = 2000;\n",
    "print (\"New value available at index 2 : \")\n",
    "print (list[2])"
   ]
  },
  {
   "cell_type": "code",
   "execution_count": 4,
   "id": "6ec3d58a",
   "metadata": {},
   "outputs": [
    {
     "name": "stdout",
     "output_type": "stream",
     "text": [
      "['DAP', 'ML', 500, 1000]\n",
      "After deleting value at index 2 :\n",
      "['DAP', 'ML', 1000]\n"
     ]
    }
   ],
   "source": [
    "list1 = ['DAP', 'ML', 500, 1000];\n",
    "print (list1)\n",
    "del (list1[2]);\n",
    "print (\"After deleting value at index 2 :\")\n",
    "print (list1)"
   ]
  },
  {
   "cell_type": "code",
   "execution_count": 5,
   "id": "3ccf5446",
   "metadata": {},
   "outputs": [
    {
     "name": "stdout",
     "output_type": "stream",
     "text": [
      "First list length :  4\n",
      "Second list length :  2\n"
     ]
    }
   ],
   "source": [
    "list1, list2 = [123, 'xyz', 'nive', 'deg'], [456, 'abc']\n",
    "print (\"First list length : \", len(list1))\n",
    "print (\"Second list length : \", len(list2))"
   ]
  },
  {
   "cell_type": "code",
   "execution_count": 7,
   "id": "925a2fcc",
   "metadata": {},
   "outputs": [
    {
     "name": "stdout",
     "output_type": "stream",
     "text": [
      "Updated List :  [123, 'xyz', 'omg', 'lol', 'Rofl']\n"
     ]
    }
   ],
   "source": [
    "aList = [123, 'xyz', 'omg', 'lol'];\n",
    "aList.append( 'Rofl' );\n",
    "print (\"Updated List : \", aList)"
   ]
  },
  {
   "cell_type": "code",
   "execution_count": 9,
   "id": "adda2a18",
   "metadata": {},
   "outputs": [
    {
     "name": "stdout",
     "output_type": "stream",
     "text": [
      "Count for xyz :  2\n",
      "Count for zara :  0\n",
      "Count for zara :  2\n"
     ]
    }
   ],
   "source": [
    "aList = [123, 'nive', 'nive', 'abc', 123];\n",
    "print (\"Count for xyz : \", aList.count('nive'))\n",
    "print (\"Count for zara : \", aList.count('xyz'))\n",
    "print (\"Count for zara : \", aList.count(123))"
   ]
  },
  {
   "cell_type": "code",
   "execution_count": 10,
   "id": "fd2b4e87",
   "metadata": {},
   "outputs": [
    {
     "name": "stdout",
     "output_type": "stream",
     "text": [
      "Extended List :  [123, 'xyz', 'Ram', 'abc', 456, 2009, 'niveditha']\n"
     ]
    }
   ],
   "source": [
    "aList = [123, 'xyz', 'Ram', 'abc', 456];\n",
    "bList = [2009, 'niveditha'];\n",
    "aList.extend(bList)\n",
    "print (\"Extended List : \", aList)"
   ]
  },
  {
   "cell_type": "code",
   "execution_count": 10,
   "id": "ce3eff72",
   "metadata": {},
   "outputs": [
    {
     "name": "stdout",
     "output_type": "stream",
     "text": [
      "Index for xyz :  1\n",
      "Index for zara :  2\n"
     ]
    }
   ],
   "source": [
    "aList = [123, 'xyz', 'zara', 'abc', 'zara'];\n",
    "print (\"Index for xyz : \", aList.index( 'xyz' ) )\n",
    "print (\"Index for zara : \", aList.index( 'zara' ) )"
   ]
  },
  {
   "cell_type": "code",
   "execution_count": 11,
   "id": "9280e780",
   "metadata": {},
   "outputs": [
    {
     "name": "stdout",
     "output_type": "stream",
     "text": [
      "Final List :  [123, 'xyz', 456, 'nive', 'abc']\n"
     ]
    }
   ],
   "source": [
    "aList = [123, 'xyz', 456, 'abc']\n",
    "aList.insert( 3, 'nive')\n",
    "print (\"Final List : \", aList)"
   ]
  },
  {
   "cell_type": "code",
   "execution_count": 12,
   "id": "badb489a",
   "metadata": {},
   "outputs": [
    {
     "name": "stdout",
     "output_type": "stream",
     "text": [
      "[123, 'nico', 'nivi', 'jhon']\n",
      "List after popping last element :  jhon\n",
      "[123, 'nico', 'nivi']\n",
      "List after popping element from mentioned index:  nivi\n",
      "[123, 'nico']\n",
      "[123, 'nico', 456]\n"
     ]
    }
   ],
   "source": [
    "aList = [123, 'nico', 'nivi', 'jhon'];\n",
    "print(aList)\n",
    "print (\"List after popping last element : \", aList.pop())\n",
    "print(aList)\n",
    "print (\"List after popping element from mentioned index: \", aList.pop(2))\n",
    "print(aList)\n",
    "aList.insert(3, 456)\n",
    "print(aList)"
   ]
  },
  {
   "cell_type": "code",
   "execution_count": 13,
   "id": "1787188d",
   "metadata": {},
   "outputs": [
    {
     "name": "stdout",
     "output_type": "stream",
     "text": [
      "List :  ['nive', 'abc', 'xyz']\n",
      "List :  ['nive', 'xyz']\n"
     ]
    }
   ],
   "source": [
    "aList = ['xyz', 'nive', 'abc', 'xyz'];\n",
    "aList.remove('xyz');\n",
    "print (\"List : \", aList)\n",
    "aList.remove('abc');\n",
    "print (\"List : \", aList)"
   ]
  },
  {
   "cell_type": "code",
   "execution_count": 14,
   "id": "b2c17fb5",
   "metadata": {},
   "outputs": [
    {
     "name": "stdout",
     "output_type": "stream",
     "text": [
      "List :  ['niveditha', 345, 123, 'nico', 'nive']\n"
     ]
    }
   ],
   "source": [
    "aList = ['nive', 'nico', 123, 345, 'niveditha'];\n",
    "aList.reverse();\n",
    "print (\"List : \", aList)"
   ]
  },
  {
   "cell_type": "code",
   "execution_count": 15,
   "id": "2ef2db47",
   "metadata": {},
   "outputs": [
    {
     "name": "stdout",
     "output_type": "stream",
     "text": [
      "List :  ['abhi', 'jhon', 'kate', 'nive', 'shabu']\n"
     ]
    }
   ],
   "source": [
    "aList = ['abhi', 'nive', 'jhon', 'kate', 'shabu'];\n",
    "aList.sort();\n",
    "print (\"List : \", aList)"
   ]
  },
  {
   "cell_type": "code",
   "execution_count": 16,
   "id": "bfa58dfa",
   "metadata": {},
   "outputs": [
    {
     "ename": "TypeError",
     "evalue": "'<' not supported between instances of 'str' and 'int'",
     "output_type": "error",
     "traceback": [
      "\u001b[1;31m---------------------------------------------------------------------------\u001b[0m",
      "\u001b[1;31mTypeError\u001b[0m                                 Traceback (most recent call last)",
      "\u001b[1;32m<ipython-input-16-d16445a53ada>\u001b[0m in \u001b[0;36m<module>\u001b[1;34m\u001b[0m\n\u001b[0;32m      1\u001b[0m \u001b[0maList\u001b[0m \u001b[1;33m=\u001b[0m \u001b[1;33m[\u001b[0m\u001b[1;36m123\u001b[0m\u001b[1;33m,\u001b[0m \u001b[1;34m'xyz'\u001b[0m\u001b[1;33m,\u001b[0m \u001b[1;34m'zara'\u001b[0m\u001b[1;33m,\u001b[0m \u001b[1;34m'abc'\u001b[0m\u001b[1;33m,\u001b[0m \u001b[1;34m'xyz'\u001b[0m\u001b[1;33m]\u001b[0m\u001b[1;33m;\u001b[0m\u001b[1;33m\u001b[0m\u001b[1;33m\u001b[0m\u001b[0m\n\u001b[1;32m----> 2\u001b[1;33m \u001b[0maList\u001b[0m\u001b[1;33m.\u001b[0m\u001b[0msort\u001b[0m\u001b[1;33m(\u001b[0m\u001b[1;33m)\u001b[0m\u001b[1;33m;\u001b[0m\u001b[1;33m\u001b[0m\u001b[1;33m\u001b[0m\u001b[0m\n\u001b[0m\u001b[0;32m      3\u001b[0m \u001b[0mprint\u001b[0m \u001b[1;33m(\u001b[0m\u001b[1;34m\"List : \"\u001b[0m\u001b[1;33m,\u001b[0m \u001b[0maList\u001b[0m\u001b[1;33m)\u001b[0m\u001b[1;33m\u001b[0m\u001b[1;33m\u001b[0m\u001b[0m\n",
      "\u001b[1;31mTypeError\u001b[0m: '<' not supported between instances of 'str' and 'int'"
     ]
    }
   ],
   "source": [
    "aList = [123, 'xyz', 'zara', 'abc', 'xyz'];\n",
    "aList.sort();\n",
    "print (\"List : \", aList)"
   ]
  },
  {
   "cell_type": "code",
   "execution_count": null,
   "id": "8a0c479f",
   "metadata": {},
   "outputs": [],
   "source": []
  }
 ],
 "metadata": {
  "kernelspec": {
   "display_name": "Python 3",
   "language": "python",
   "name": "python3"
  },
  "language_info": {
   "codemirror_mode": {
    "name": "ipython",
    "version": 3
   },
   "file_extension": ".py",
   "mimetype": "text/x-python",
   "name": "python",
   "nbconvert_exporter": "python",
   "pygments_lexer": "ipython3",
   "version": "3.8.11"
  }
 },
 "nbformat": 4,
 "nbformat_minor": 5
}
