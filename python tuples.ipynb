{
 "cells": [
  {
   "cell_type": "code",
   "execution_count": 3,
   "id": "424b5b94",
   "metadata": {},
   "outputs": [
    {
     "name": "stdout",
     "output_type": "stream",
     "text": [
      "('Niv', 'cse', '7', 'cmr', 'good')\n",
      "(1, 2, 3, 4, 5)\n",
      "('yah', 'okay')\n"
     ]
    }
   ],
   "source": [
    "tup= ('Niv','cse','7','cmr','good')\n",
    "print(tup)\n",
    "tup1=(1,2,3,4,5)\n",
    "print(tup1)\n",
    "tup2=\"yah\",\"okay\"\n",
    "print(tup2)"
   ]
  },
  {
   "cell_type": "code",
   "execution_count": 11,
   "id": "debde1a5",
   "metadata": {},
   "outputs": [
    {
     "name": "stdout",
     "output_type": "stream",
     "text": [
      "Hello\n",
      "()\n",
      "     hi\n"
     ]
    }
   ],
   "source": [
    "tup1 = (\"Hello\")\n",
    "print(tup1)\n",
    "tup2 = ()\n",
    "print(tup2)\n",
    "tup3 = '     hi'\n",
    "print(tup3)"
   ]
  },
  {
   "cell_type": "code",
   "execution_count": 1,
   "id": "74286d0d",
   "metadata": {},
   "outputs": [
    {
     "name": "stdout",
     "output_type": "stream",
     "text": [
      "+91 7895675487- call from india\n",
      "8739\n"
     ]
    }
   ],
   "source": [
    "tup1 = (\"+91 7895675487- call from india\")\n",
    "print(tup1)\n",
    "tup2=(8739)\n",
    "print(tup2)"
   ]
  },
  {
   "cell_type": "code",
   "execution_count": 20,
   "id": "a79a5606",
   "metadata": {},
   "outputs": [
    {
     "name": "stdout",
     "output_type": "stream",
     "text": [
      "hello\n",
      "Nive H R\n",
      "('i', 'am', 'Nive H R', 'branch-cse')\n"
     ]
    }
   ],
   "source": [
    "tup= ('hello','i','am','Nive H R','branch-cse')\n",
    "print(tup[0])\n",
    "print(tup[3])\n",
    "print(tup[1:5])"
   ]
  },
  {
   "cell_type": "code",
   "execution_count": 22,
   "id": "21292bd1",
   "metadata": {},
   "outputs": [
    {
     "name": "stdout",
     "output_type": "stream",
     "text": [
      "('hello', 'i', 'am', 'Nive H R', 'branch-cse')\n",
      "()\n"
     ]
    }
   ],
   "source": [
    "tup= ('hello','i','am','Nive H R','branch-cse')\n",
    "print(tup)\n",
    "del(tup)#Tuple got deleted error not define\n",
    "tup1 = ()#creating new empty tuple\n",
    "print(tup1)"
   ]
  },
  {
   "cell_type": "code",
   "execution_count": 23,
   "id": "10d1afee",
   "metadata": {},
   "outputs": [
    {
     "name": "stdout",
     "output_type": "stream",
     "text": [
      "('hello', 'i', 'am', 'Nive H R', 'branch-cse')\n",
      "('cse', 'it', 'mech', 'electronics')\n",
      "('cse', 'it', 'mech', 'electronics', 'hello', 'i', 'am', 'Nive H R', 'branch-cse')\n"
     ]
    }
   ],
   "source": [
    "tup= ('hello','i','am','Nive H R','branch-cse')\n",
    "print(tup)\n",
    "tup1= ('cse','it','mech','electronics')\n",
    "print(tup1)\n",
    "tup2=tup1+tup\n",
    "print(tup2)"
   ]
  },
  {
   "cell_type": "code",
   "execution_count": 32,
   "id": "bb18bcef",
   "metadata": {},
   "outputs": [
    {
     "name": "stdout",
     "output_type": "stream",
     "text": [
      "('hello', 'i', 'am', 'Nive H R', 'branch-cse')\n",
      "value at 5th lock=  l\n",
      "i am new tupple  l\n",
      "('hello', 'i', 'am', 'Nive H R', 'branch-cse')\n"
     ]
    }
   ],
   "source": [
    "tup= ('hello','i','am','Nive H R','branch-cse')\n",
    "print(tup)\n",
    "print(\"value at 5th lock= \",tup1[2])\n",
    "tup1 =\"hello\" # tup[3] = \"\" --> not allowed\n",
    "print(\"i am new tupple \",tup1[2])\n",
    "print(tup)"
   ]
  },
  {
   "cell_type": "code",
   "execution_count": 37,
   "id": "90cb299f",
   "metadata": {},
   "outputs": [
    {
     "name": "stdout",
     "output_type": "stream",
     "text": [
      "('hello', 'i', 'am', 'Nive H R', 'branch-cse')\n",
      "('cse', 'it', 'elec', 'mech')\n",
      "('cse', 'it', 'elec', 'mech')\n",
      "5\n",
      "4\n",
      "4\n"
     ]
    }
   ],
   "source": [
    "tup= ('hello','i','am','Nive H R','branch-cse')\n",
    "print(tup)\n",
    "print(tup1)\n",
    "tup1= ('cse','it','elec','mech')\n",
    "print(tup2)\n",
    "a=len(tup)\n",
    "b=len(tup1)\n",
    "print(a)\n",
    "print(b)\n",
    "print(len(tup1))\n"
   ]
  },
  {
   "cell_type": "code",
   "execution_count": 40,
   "id": "fd3c1496",
   "metadata": {},
   "outputs": [
    {
     "name": "stdout",
     "output_type": "stream",
     "text": [
      "('hello', 'i', 'am', 'Nive H R', 'branch-cse')\n",
      "('cse', 'it', 'elc', 'mech')\n",
      "\n",
      "mech\n",
      "i\n",
      "cse\n",
      "Nive H R\n"
     ]
    }
   ],
   "source": [
    "tup= ('hello','i','am','Nive H R','branch-cse')\n",
    "print(tup)\n",
    "tup2= ('cse','it','elc','mech')\n",
    "print(tup2)\n",
    "print()\n",
    "print(max(tup2))\n",
    "print(max(tup))\n",
    "print(min(tup2))\n",
    "print(min(tup))"
   ]
  },
  {
   "cell_type": "code",
   "execution_count": null,
   "id": "80ef4447",
   "metadata": {},
   "outputs": [],
   "source": []
  }
 ],
 "metadata": {
  "kernelspec": {
   "display_name": "Python 3",
   "language": "python",
   "name": "python3"
  },
  "language_info": {
   "codemirror_mode": {
    "name": "ipython",
    "version": 3
   },
   "file_extension": ".py",
   "mimetype": "text/x-python",
   "name": "python",
   "nbconvert_exporter": "python",
   "pygments_lexer": "ipython3",
   "version": "3.8.8"
  }
 },
 "nbformat": 4,
 "nbformat_minor": 5
}
