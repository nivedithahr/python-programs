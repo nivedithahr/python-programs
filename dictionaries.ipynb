{
 "cells": [
  {
   "cell_type": "code",
   "execution_count": 4,
   "id": "f9e29d38",
   "metadata": {},
   "outputs": [
    {
     "name": "stdout",
     "output_type": "stream",
     "text": [
      "Niveditha H R\n",
      "Machine Learning Engineer\n"
     ]
    },
    {
     "ename": "KeyError",
     "evalue": "21",
     "output_type": "error",
     "traceback": [
      "\u001b[1;31m---------------------------------------------------------------------------\u001b[0m",
      "\u001b[1;31mKeyError\u001b[0m                                  Traceback (most recent call last)",
      "\u001b[1;32m<ipython-input-4-e5c73e04432c>\u001b[0m in \u001b[0;36m<module>\u001b[1;34m\u001b[0m\n\u001b[0;32m      2\u001b[0m \u001b[0mprint\u001b[0m\u001b[1;33m(\u001b[0m\u001b[0mdict\u001b[0m\u001b[1;33m[\u001b[0m\u001b[1;34m'name'\u001b[0m\u001b[1;33m]\u001b[0m\u001b[1;33m)\u001b[0m\u001b[1;33m\u001b[0m\u001b[1;33m\u001b[0m\u001b[0m\n\u001b[0;32m      3\u001b[0m \u001b[0mprint\u001b[0m\u001b[1;33m(\u001b[0m\u001b[0mdict\u001b[0m\u001b[1;33m[\u001b[0m\u001b[1;34m'course'\u001b[0m\u001b[1;33m]\u001b[0m\u001b[1;33m)\u001b[0m\u001b[1;33m\u001b[0m\u001b[1;33m\u001b[0m\u001b[0m\n\u001b[1;32m----> 4\u001b[1;33m \u001b[0mprint\u001b[0m\u001b[1;33m(\u001b[0m\u001b[0mdict\u001b[0m\u001b[1;33m[\u001b[0m\u001b[1;36m21\u001b[0m\u001b[1;33m]\u001b[0m\u001b[1;33m)\u001b[0m\u001b[1;33m\u001b[0m\u001b[1;33m\u001b[0m\u001b[0m\n\u001b[0m\u001b[0;32m      5\u001b[0m \u001b[0mprint\u001b[0m\u001b[1;33m(\u001b[0m\u001b[0mdict\u001b[0m\u001b[1;33m[\u001b[0m\u001b[1;34m'clg'\u001b[0m\u001b[1;33m]\u001b[0m\u001b[1;33m)\u001b[0m\u001b[1;33m\u001b[0m\u001b[1;33m\u001b[0m\u001b[0m\n",
      "\u001b[1;31mKeyError\u001b[0m: 21"
     ]
    }
   ],
   "source": [
    "dict={'name':'Niveditha H R','age' : 22, 'course':'Machine Learning Engineer','edu':'B Tech','clg':'cmr universithy'}\n",
    "print(dict['name'])\n",
    "print(dict['course'])\n",
    "print(dict['edu'])\n",
    "print(dict['clg'])"
   ]
  },
  {
   "cell_type": "code",
   "execution_count": 7,
   "id": "dae64caa",
   "metadata": {},
   "outputs": [
    {
     "name": "stdout",
     "output_type": "stream",
     "text": [
      "Jak\n",
      "7\n",
      "cse\n"
     ]
    }
   ],
   "source": [
    "dict={'name':'Nive','age' : 22, 'course':'Machine Learning Engineer','edu':'B Tech','clg':'cmr universithy'}\n",
    "dict['name']='Jak'\n",
    "print(dict['name'])\n",
    "dict['sem']='7'\n",
    "print(dict['sem'])\n",
    "dict['branch'] = 'cse'\n",
    "print(dict['branch'])"
   ]
  },
  {
   "cell_type": "code",
   "execution_count": 14,
   "id": "a812e5e4",
   "metadata": {},
   "outputs": [
    {
     "name": "stdout",
     "output_type": "stream",
     "text": [
      "Niv\n"
     ]
    }
   ],
   "source": [
    "dict={'name':'Niveditha H R','age' : 22, 'course':'Machine Learning Engineer'}\n",
    "del dict['edu']\n",
    "dict.clear()\n",
    "del dict# entire dictionary got deleted and cleared\n",
    "dict = {}#inserting new dict\n",
    "dict['name'] = 'Niv'\n",
    "print(dict['name'])\n"
   ]
  },
  {
   "cell_type": "code",
   "execution_count": 1,
   "id": "fd8f8734",
   "metadata": {},
   "outputs": [
    {
     "name": "stdout",
     "output_type": "stream",
     "text": [
      "Machine Learning Engineer\n",
      "25\n",
      "3\n"
     ]
    }
   ],
   "source": [
    "dict={'name':'Niveditha H R','age' : 22, 'course':'Machine Learning Engineer'}\n",
    "print(dict['course'])\n",
    "print(len(dict['course']))\n",
    "print(len(dict))"
   ]
  },
  {
   "cell_type": "code",
   "execution_count": 3,
   "id": "7a9cf5ae",
   "metadata": {},
   "outputs": [
    {
     "name": "stdout",
     "output_type": "stream",
     "text": [
      "{'name': 'Niveditha H R', 'age': 22, 'course': 'Machine Learning Engineer', 'edu': 'B Tech', 'clg': 'cmr universithy'}\n",
      "dict_values(['Niveditha H R', 22, 'Machine Learning Engineer', 'B Tech', 'cmr universithy'])\n",
      "dict_items([('name', 'Niveditha H R'), ('age', 22), ('course', 'Machine Learning Engineer'), ('edu', 'B Tech'), ('clg', 'cmr universithy')])\n",
      "dict_keys(['name', 'age', 'course', 'edu', 'clg'])\n"
     ]
    }
   ],
   "source": [
    "dict={'name':'Niveditha H R','age' : 22, 'course':'Machine Learning Engineer','edu':'B Tech','clg':'cmr universithy'}\n",
    "print(dict)#displaying dictionary\n",
    "print()\n",
    "print(dict.values())#display values\n",
    "print(dict.items())#display items\n",
    "print(dict.keys())#display keys"
   ]
  },
  {
   "cell_type": "code",
   "execution_count": 20,
   "id": "2842e9db",
   "metadata": {},
   "outputs": [
    {
     "name": "stdout",
     "output_type": "stream",
     "text": [
      "Niveditha H R\n",
      "B Tech\n",
      "Nothing\n"
     ]
    }
   ],
   "source": [
    "dict={'name':'Niveditha H R','age' : 22, 'course':'Machine Learning Engineer','edu':'B Tech','clg':'cmr universithy'}\n",
    "print(dict['name'])\n",
    "print(dict.get('edu',\"CMR\"))#eventhough u insert new item it still takes from dict\n",
    "print(dict.get('class',\"Nothing\"))\n"
   ]
  },
  {
   "cell_type": "code",
   "execution_count": 3,
   "id": "243dda29",
   "metadata": {},
   "outputs": [
    {
     "name": "stdout",
     "output_type": "stream",
     "text": [
      "Niveditha H R\n",
      "3\n"
     ]
    }
   ],
   "source": [
    "dict={'name':'Niveditha H R','age' : 22, 'course':'Machine Learning Engineer'}\n",
    "dict2=dict.copy()\n",
    "print(dict2['name'])\n",
    "print(len(dict2))"
   ]
  },
  {
   "cell_type": "code",
   "execution_count": 4,
   "id": "6a57403b",
   "metadata": {},
   "outputs": [
    {
     "name": "stdout",
     "output_type": "stream",
     "text": [
      "{'name': 'Niveditha H R', 'age': 22, 'course': 'Machine Learning Engineer'}\n",
      "{'branch': 'cse', 'sec': 'A'}\n",
      "{'name': 'Niveditha H R', 'age': 22, 'course': 'Machine Learning Engineer', 'branch': 'cse', 'sec': 'A'}\n"
     ]
    }
   ],
   "source": [
    "dict={'name':'Niveditha H R','age' : 22, 'course':'Machine Learning Engineer'}\n",
    "dict2={'branch':'cse','sec':'A'}\n",
    "print(dict)\n",
    "print(dict2)\n",
    "dict.update(dict2)\n",
    "print(dict)"
   ]
  },
  {
   "cell_type": "code",
   "execution_count": null,
   "id": "4e542941",
   "metadata": {},
   "outputs": [],
   "source": []
  }
 ],
 "metadata": {
  "kernelspec": {
   "display_name": "Python 3",
   "language": "python",
   "name": "python3"
  },
  "language_info": {
   "codemirror_mode": {
    "name": "ipython",
    "version": 3
   },
   "file_extension": ".py",
   "mimetype": "text/x-python",
   "name": "python",
   "nbconvert_exporter": "python",
   "pygments_lexer": "ipython3",
   "version": "3.8.11"
  }
 },
 "nbformat": 4,
 "nbformat_minor": 5
}
