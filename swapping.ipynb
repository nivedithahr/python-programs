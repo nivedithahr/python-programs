{
 "cells": [
  {
   "cell_type": "code",
   "execution_count": 3,
   "id": "e956d561",
   "metadata": {},
   "outputs": [
    {
     "name": "stdout",
     "output_type": "stream",
     "text": [
      "Enter element you want to swap\n",
      "a : 2\n",
      "b : 7\n",
      "numbers before swapping:\n",
      "a = 2, b = 7\n",
      "Number after swapping:\n",
      "a = 7, b = 2\n"
     ]
    }
   ],
   "source": [
    "def swap(a,b):\n",
    "    temp = a\n",
    "    a = b\n",
    "    b = temp\n",
    "    return(a,b)\n",
    "print(\"Enter element you want to swap\")\n",
    "x = int(input(\"a : \"))\n",
    "y = int(input(\"b : \"))\n",
    "print (\"numbers before swapping:\\na = {}, b = {}\".format(x,y))\n",
    "x,y = swap(x,y)\n",
    "print(\"Number after swapping:\\na = {}, b = {}\".format(x,y))"
   ]
  }
 ],
 "metadata": {
  "kernelspec": {
   "display_name": "Python 3",
   "language": "python",
   "name": "python3"
  },
  "language_info": {
   "codemirror_mode": {
    "name": "ipython",
    "version": 3
   },
   "file_extension": ".py",
   "mimetype": "text/x-python",
   "name": "python",
   "nbconvert_exporter": "python",
   "pygments_lexer": "ipython3",
   "version": "3.8.8"
  }
 },
 "nbformat": 4,
 "nbformat_minor": 5
}
