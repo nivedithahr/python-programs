{
 "cells": [
  {
   "cell_type": "code",
   "execution_count": 14,
   "id": "610c6d6a",
   "metadata": {},
   "outputs": [
    {
     "name": "stdout",
     "output_type": "stream",
     "text": [
      "Hello Welcome to brand Generator\n",
      "Do you like to continue with us   PRINCESS\n",
      " \n",
      "--yes / no--\n",
      "yes\n",
      "What is your Native? : Colambia\n",
      "What is your fav pet? : Micky\n",
      "Your brand is 'Colambia Micky'\n"
     ]
    }
   ],
   "source": [
    "def fun(str):\n",
    "     print(\"Do you like to continue with us   \" + str)\n",
    "     print(\" \")\n",
    "     return;\n",
    "\n",
    "print(\"Hello Welcome to brand Generator\")\n",
    "fun(\"PRINCESS\")\n",
    "print(\"--yes / no--\")\n",
    "y = \"yes\"\n",
    "n = \"no\"\n",
    "a = input()\n",
    "if a == y:\n",
    "    x = input(\"What is your Native? : \")\n",
    "    y = input(\"What is your fav pet? : \")\n",
    "    print(\"Your brand is '{} {}'\".format(x,y))\n",
    "else:\n",
    "    print(\"Thank you\")\n"
   ]
  },
  {
   "cell_type": "code",
   "execution_count": 17,
   "id": "fb2145fc",
   "metadata": {},
   "outputs": [
    {
     "name": "stdout",
     "output_type": "stream",
     "text": [
      "Values in:  [10, 20, 'wow', ['hi', 'hello', 3, 4]]\n",
      "Values out:  [10, 20, 'wow', ['hi', 'hello', 3, 4]]\n"
     ]
    }
   ],
   "source": [
    "def changeme( mylist ):\n",
    "   mylist.append([\"hi\",\"hello\",3,4]);\n",
    "   print (\"Values in: \", mylist)\n",
    "   return;\n",
    "mylist = [10,20,\"wow\"];\n",
    "changeme( mylist );\n",
    "print (\"Values out: \", mylist)\n"
   ]
  },
  {
   "cell_type": "code",
   "execution_count": 6,
   "id": "78748955",
   "metadata": {},
   "outputs": [
    {
     "name": "stdout",
     "output_type": "stream",
     "text": [
      "Before Change:  [10, 20, 30]\n",
      "After change :  [1, 2, 3, 4]\n",
      "Values now are (*10) with respect to after change:  [10, 20, 30]\n"
     ]
    }
   ],
   "source": [
    "def lis( mylis):\n",
    "    print (\"Before Change: \", mylis)\n",
    "    mylis = [1,2,3,4]; \n",
    "    print (\"After change : \", mylis)\n",
    "    return\n",
    "l1 = [10,20,30];\n",
    "lis( l1 );\n",
    "print (\"Values now are (*10) with respect to after change: \", l1)"
   ]
  },
  {
   "cell_type": "code",
   "execution_count": 12,
   "id": "4ce4e4e3",
   "metadata": {},
   "outputs": [
    {
     "name": "stdout",
     "output_type": "stream",
     "text": [
      "Hello H R welcome To DAP Lab!\n"
     ]
    }
   ],
   "source": [
    "def printme( str ):\n",
    "     print (\"Hello H R welcome To DAP Lab!\")\n",
    "     return;\n",
    "printme(str)"
   ]
  },
  {
   "cell_type": "code",
   "execution_count": 13,
   "id": "3fd7b07c",
   "metadata": {
    "scrolled": true
   },
   "outputs": [
    {
     "name": "stdout",
     "output_type": "stream",
     "text": [
      "Or here is one more method for you to print same\n",
      "Hello H R welcome To DAP Lab!\n"
     ]
    }
   ],
   "source": [
    "def printme( str ):\n",
    "     print (str)\n",
    "     return;\n",
    "print(\"Or here is one more method for you to print same\")\n",
    "printme( str = \"Hello H R welcome To DAP Lab!\")"
   ]
  },
  {
   "cell_type": "code",
   "execution_count": 23,
   "id": "4f1aa13a",
   "metadata": {},
   "outputs": [
    {
     "name": "stdout",
     "output_type": "stream",
     "text": [
      "Nmae:  Niveditha H R\n",
      "College:  CMR UNIVERSITY\n",
      "year of pass out:  2022\n"
     ]
    }
   ],
   "source": [
    "def data( name, clg, yop ):\n",
    "    print(\"Nmae: \", name)\n",
    "    print(\"College: \", clg)\n",
    "    print(\"year of pass out: \", yop)\n",
    "    return;\n",
    "\n",
    "data( name = \"Niveditha H R\", clg = \"CMR UNIVERSITY\", yop = \"2022\" )"
   ]
  },
  {
   "cell_type": "code",
   "execution_count": 26,
   "id": "31440757",
   "metadata": {},
   "outputs": [
    {
     "name": "stdout",
     "output_type": "stream",
     "text": [
      "**Always follow this method!**\n",
      "Nmae:  Niveditha H R\n",
      "College:  CMR UNIVERSITY\n",
      "year of pass out:  2022\n"
     ]
    }
   ],
   "source": [
    "def data( name, clg, yop ):\n",
    "    print(\"Nmae: \", name)\n",
    "    print(\"College: \", clg)\n",
    "    print(\"year of pass out: \", yop)\n",
    "    return;\n",
    "\n",
    "print(\"**Always follow this method!**\")\n",
    "data(\"Niveditha H R\", \"CMR UNIVERSITY\", 2022 )"
   ]
  },
  {
   "cell_type": "code",
   "execution_count": 32,
   "id": "686dee84",
   "metadata": {},
   "outputs": [
    {
     "name": "stdout",
     "output_type": "stream",
     "text": [
      "NOTE:Here order of inserting matters\n",
      "Nmae:  21\n",
      "College:  hello\n",
      "year of pass out:  y\n"
     ]
    }
   ],
   "source": [
    "def data( name, clg, yop ):\n",
    "    print(\"Nmae: \", name)\n",
    "    print(\"College: \", clg)\n",
    "    print(\"year of pass out: \", yop)\n",
    "    return;\n",
    "\n",
    "print(\"NOTE:Here order of inserting matters\" )\n",
    "data( 21, \"hello\",\"y\" )"
   ]
  },
  {
   "cell_type": "code",
   "execution_count": 36,
   "id": "2e9d9fe4",
   "metadata": {},
   "outputs": [
    {
     "name": "stdout",
     "output_type": "stream",
     "text": [
      "Nmae:  Jack\n",
      "College:  Reva\n",
      "year of pass out:  2020\n",
      "\n",
      "Nmae:  Niv\n",
      "College:  CMR\n",
      "year of pass out:  2022\n"
     ]
    }
   ],
   "source": [
    "def data( name, clg = \"CMR\", yop = 2022 ):\n",
    "    print(\"Nmae: \", name)\n",
    "    print(\"College: \", clg)\n",
    "    print(\"year of pass out: \", yop)\n",
    "    return;\n",
    "\n",
    "data( yop=2020, name=\"Jack\" , clg = \"Reva\")\n",
    "print()\n",
    "data(name=\"Niv\" )"
   ]
  },
  {
   "cell_type": "code",
   "execution_count": 39,
   "id": "1897fba0",
   "metadata": {},
   "outputs": [
    {
     "name": "stdout",
     "output_type": "stream",
     "text": [
      "Output is: \n",
      "arg1 ==  1\n",
      "2\n",
      "10\n",
      "Output is: \n",
      "arg1 ==  20\n",
      "30\n",
      "40\n",
      "50\n",
      "60\n",
      "70\n",
      "80\n"
     ]
    }
   ],
   "source": [
    "def info( arg1, *var1 ):\n",
    "     print (\"Output is: \")\n",
    "     print (\"arg1 == \", arg1)\n",
    "     for var in var1:\n",
    "        print (var)\n",
    "     return;\n",
    "\n",
    "info( 1,2,10 )\n",
    "info( 20, 30, 40, 50, 60, 70, 80 )"
   ]
  },
  {
   "cell_type": "code",
   "execution_count": 43,
   "id": "55739efd",
   "metadata": {},
   "outputs": [
    {
     "name": "stdout",
     "output_type": "stream",
     "text": [
      "addition :  3\n",
      "add :  60\n"
     ]
    }
   ],
   "source": [
    "sum = lambda arg1, arg2: arg1 + arg2;\n",
    "print (\"addition : \", sum( 1, 2 ))\n",
    "print (\"add : \", sum( 20, 40 ))"
   ]
  },
  {
   "cell_type": "code",
   "execution_count": 49,
   "id": "b5e22453",
   "metadata": {},
   "outputs": [
    {
     "name": "stdout",
     "output_type": "stream",
     "text": [
      "x :  100\n",
      "y :  100\n",
      "z :  30\n"
     ]
    }
   ],
   "source": [
    "def sum( arg1, arg2 ):\n",
    "    total = 40 + 60\n",
    "    print (\"x : \", total)\n",
    "    return total;\n",
    "total = sum( 10, 20 );\n",
    "print (\"y : \", total )\n",
    "z = 10 + 20\n",
    "print(\"z : \", z)"
   ]
  },
  {
   "cell_type": "code",
   "execution_count": 52,
   "id": "97396c41",
   "metadata": {},
   "outputs": [
    {
     "name": "stdout",
     "output_type": "stream",
     "text": [
      "Enter any number : 45\n",
      "Inside the fun local total :  120\n",
      "Outside the fun global total :  45\n"
     ]
    }
   ],
   "source": [
    "total = int(input(\"Enter any number : \")) \n",
    "def sum( arg1, arg2 ):\n",
    "    total = arg1 + arg2 \n",
    "    print (\"Inside the fun local total : \", total)\n",
    "    return total\n",
    "sum( 100, 20 )\n",
    "print (\"Outside the fun global total : \", total )"
   ]
  },
  {
   "cell_type": "code",
   "execution_count": null,
   "id": "4b526999",
   "metadata": {},
   "outputs": [],
   "source": []
  }
 ],
 "metadata": {
  "kernelspec": {
   "display_name": "Python 3",
   "language": "python",
   "name": "python3"
  },
  "language_info": {
   "codemirror_mode": {
    "name": "ipython",
    "version": 3
   },
   "file_extension": ".py",
   "mimetype": "text/x-python",
   "name": "python",
   "nbconvert_exporter": "python",
   "pygments_lexer": "ipython3",
   "version": "3.8.8"
  }
 },
 "nbformat": 4,
 "nbformat_minor": 5
}
